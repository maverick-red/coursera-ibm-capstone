{
 "cells": [
  {
   "cell_type": "markdown",
   "metadata": {},
   "source": [
    "# Applied Data Science Capstone"
   ]
  },
  {
   "cell_type": "markdown",
   "metadata": {},
   "source": [
    "# LAPD Crime Dataset\n",
    "\n",
    "The crime data for the areas administered by the Los Angeles Police Department was obtained from the [Los Angeles Open Data catalog](https://data.lacity.org/A-Safe-City/Crime-Data-from-2010-to-Present/y8tr-7khq). The dataset contains crime data dating back from 2010 to January 2019. This data is transcribed from original crime reports.\n",
    "\n",
    "The format of the dataset is shown below. The full dataset contained approximately 1.9 million rows. To keep computing costs relatively low, only the crimes from 2018 were chosen. This reduced the working dataset to approximtely 225000 rows.\n",
    "\n",
    "While I was initially successful at accessing the records through the Socrata API, it made much more sense to download the data locally, especially given the huge size of the dataset."
   ]
  },
  {
   "cell_type": "markdown",
   "metadata": {},
   "source": [
    "| Column Name | Description | Type |\n",
    "|-------------------------|-------------------------------------------------------------------------------------------------------------------------------------------------------------------------------------------------------------------------------------------------------------------------------------------------------------|-------------|\n",
    "| DR Number | Division of Records Number: Official file number made up of a 2 digit year, area ID, and 5 digits | Plain Text |\n",
    "| Date Reported | MM/DD/YYYY | Date & Time |\n",
    "| Date Occurred | MM/DD/YYYY | Date & Time |\n",
    "| Time Occurred | In 24 hour military time | Plain Text |\n",
    "| Area ID | The LAPD has 21 Community Police Stations referred to as Geographic Areas within the department. These Geographic Areas are sequentially numbered from 1-21 | Plain Text |\n",
    "| Area Name | The 21 Geographic Areas or Patrol Divisions are also given a name designation that references a landmark or the surrounding community that it is responsible for | Plain Text |\n",
    "| Reporting District | A four-digit code that represents a sub-area within a Geographic Area. All crime records reference the \"RD\" that it occurred in for statistical comparisons | Plain Text |\n",
    "| Crime Code | Indicates the crime committed (Same as Crime Code 1) | Plain Text |\n",
    "| Crime Code Description | Defines the Crime Code provided | Plain Text |\n",
    "| MO Codes | Modus Operandi: Activities associated with the suspect in commission of the crime | Plain Text |\n",
    "| Victim Age | Two character numeric | Plain Text |\n",
    "| Victim Sex | F - Female M - Male X - Unknown | Plain Text |\n",
    "| Victim Descent | Descent Code: A - Other Asian B - Black C - Chinese D - Cambodian F - Filipino G - Guamanian H - Hispanic/Latin/Mexican I - American Indian/Alaskan Native J - Japanese K - Korean L - Laotian O - Other P - Pacific Islander S - Samoan U - Hawaiian V - Vietnamese W - White X - Unknown Z - Asian Indian | Plain Text |\n",
    "| Premise Code | The type of structure, vehicle, or location where the crime took place | Plain Text |\n",
    "| Premise Description | Defines the Premise Code provided | Plain Text |\n",
    "| Weapon Used Code | The type of weapon used in the crime | Plain Text |\n",
    "| Weapon Used Description | Defines the Weapon Used Code provided | Plain Text |\n",
    "| Status Code | Status of the case (IC is the default) | Plain Text |\n",
    "| Status Description | Defines the Status Code provided | Plain Text |\n",
    "| Crime Code 1 | Indicates the crime committed. Crime Code 1 is the primary and most serious one. Crime Code 2, 3, and 4 are respectively less serious offenses. Lower crime class numbers are more serious | Plain Text |\n",
    "| Crime Code 2 | May contain a code for an additional crime, less serious than Crime Code 1 | Plain Text |\n",
    "| Crime Code 3 | May contain a code for an additional crime, less serious than Crime Code 1 | Plain Text |\n",
    "| Crime Code 4 | May contain a code for an additional crime, less serious than Crime Code 1 | Plain Text |\n",
    "| Address | Street address of crime incident rounded to the nearest hundred block to maintain anonymity | Plain Text |\n",
    "| Cross Street | Cross Street of rounded Address | Plain Text |\n",
    "| Location | The location where the crime incident occurred. Actual address is omitted for confidentiality. XY coordinates reflect the nearest 100 block | Location |"
   ]
  },
  {
   "cell_type": "markdown",
   "metadata": {},
   "source": [
    "### Import supporting libraries"
   ]
  },
  {
   "cell_type": "code",
   "execution_count": 1,
   "metadata": {},
   "outputs": [],
   "source": [
    "%matplotlib inline\n",
    "\n",
    "import datetime\n",
    "import folium\n",
    "import geocoder\n",
    "import geojson\n",
    "import json\n",
    "import re\n",
    "import requests\n",
    "import urllib\n",
    "\n",
    "import matplotlib.pyplot as plt\n",
    "import matplotlib.cm as cm\n",
    "import matplotlib.colors as colors\n",
    "import numpy as np\n",
    "import pandas as pd\n",
    "\n",
    "from bokeh.io import show\n",
    "from bokeh.models import HoverTool\n",
    "from bokeh.plotting import figure, output_file, save\n",
    "from bs4 import BeautifulSoup\n",
    "from folium import plugins\n",
    "from geopy.distance import great_circle\n",
    "from geopy.geocoders import Nominatim\n",
    "from haversine import haversine\n",
    "from pandas.io.json import json_normalize\n",
    "from scipy.spatial.distance import euclidean , cityblock\n",
    "from sklearn import metrics, preprocessing\n",
    "from sklearn.model_selection import train_test_split\n",
    "from sklearn.ensemble import RandomForestClassifier\n",
    "\n",
    "pd.set_option('display.max_columns', None)\n",
    "pd.set_option('display.max_rows', None)\n",
    "plt.rcParams['axes.grid'] = True"
   ]
  },
  {
   "cell_type": "markdown",
   "metadata": {},
   "source": [
    "## LAPD Precinct Data\n",
    "\n",
    "The LAPD administers 21 Geographic Areas within the department. The location of each precinct, the division or area name and the location of each Community Police Station was obtained from the [Los Angeles Open Data catalog](http://data-lahub.opendata.arcgis.com/datasets/031d488e158144d0b3aecaa9c888b7b3_0). The JSON object was parsed to extract the relevant information.\n",
    "\n",
    "To speed up processing, the data was stored locally on the machine after it was formatted as desired."
   ]
  },
  {
   "cell_type": "code",
   "execution_count": 2,
   "metadata": {},
   "outputs": [],
   "source": [
    "def get_lat_lng_coords(row):\n",
    "    lat_lng_coords = None\n",
    "    while(lat_lng_coords is None):\n",
    "        g = geocoder.arcgis('{}, Los Angeles, CA'.format(row.location))\n",
    "        lat_lng_coords = g.json['raw']['feature']['geometry']\n",
    "\n",
    "    latitude = lat_lng_coords['y']\n",
    "    longitude = lat_lng_coords['x']\n",
    "    \n",
    "    return pd.Series([latitude, longitude])"
   ]
  },
  {
   "cell_type": "code",
   "execution_count": 3,
   "metadata": {},
   "outputs": [],
   "source": [
    "lapd_precinct_url = 'https://services5.arcgis.com/7nsPwEMP38bSkCjy/arcgis/rest/services/LAPD_Police_Stations/FeatureServer/0/query?where=1%3D1&outFields=DIVISION,LOCATION,PREC&returnGeometry=false&outSR=4326&f=json'\n",
    "with urllib.request.urlopen(lapd_precinct_url) as url:\n",
    "    lapd_precinct_content = json.loads(url.read().decode())\n",
    "\n",
    "lapd_precinct_data = pd.DataFrame(columns=['precinct', 'division', 'location'])\n",
    "    \n",
    "for row in lapd_precinct_content['features']:\n",
    "    lapd_precinct_data = lapd_precinct_data.append({\n",
    "        'precinct': row['attributes']['PREC'],\n",
    "        'division': row['attributes']['DIVISION'],\n",
    "        'location': row['attributes']['LOCATION']\n",
    "    }, ignore_index=True)\n",
    "    \n",
    "lapd_precinct_data.sort_values(by='precinct', inplace=True)\n",
    "lapd_precinct_data = lapd_precinct_data.reset_index(drop=True)\n",
    "lapd_precinct_data[['latitude', 'longitude']] = lapd_precinct_data.apply(get_lat_lng_coords, axis=1)\n",
    "\n",
    "lapd_precinct_data.to_csv('generated_data/lapd_precinct_data.csv', index=False)"
   ]
  },
  {
   "cell_type": "code",
   "execution_count": 4,
   "metadata": {
    "scrolled": true
   },
   "outputs": [
    {
     "data": {
      "text/html": [
       "<div>\n",
       "<style scoped>\n",
       "    .dataframe tbody tr th:only-of-type {\n",
       "        vertical-align: middle;\n",
       "    }\n",
       "\n",
       "    .dataframe tbody tr th {\n",
       "        vertical-align: top;\n",
       "    }\n",
       "\n",
       "    .dataframe thead th {\n",
       "        text-align: right;\n",
       "    }\n",
       "</style>\n",
       "<table border=\"1\" class=\"dataframe\">\n",
       "  <thead>\n",
       "    <tr style=\"text-align: right;\">\n",
       "      <th></th>\n",
       "      <th>precinct</th>\n",
       "      <th>division</th>\n",
       "      <th>location</th>\n",
       "      <th>latitude</th>\n",
       "      <th>longitude</th>\n",
       "    </tr>\n",
       "  </thead>\n",
       "  <tbody>\n",
       "    <tr>\n",
       "      <th>0</th>\n",
       "      <td>1</td>\n",
       "      <td>CENTRAL</td>\n",
       "      <td>251 E. 6TH ST.</td>\n",
       "      <td>34.043882</td>\n",
       "      <td>-118.247710</td>\n",
       "    </tr>\n",
       "    <tr>\n",
       "      <th>1</th>\n",
       "      <td>2</td>\n",
       "      <td>RAMPART</td>\n",
       "      <td>1401 W. 6TH ST.</td>\n",
       "      <td>34.056330</td>\n",
       "      <td>-118.267360</td>\n",
       "    </tr>\n",
       "    <tr>\n",
       "      <th>2</th>\n",
       "      <td>3</td>\n",
       "      <td>SOUTHWEST</td>\n",
       "      <td>1546 MARTIN LUTHER KING JR. BLVD.</td>\n",
       "      <td>34.010815</td>\n",
       "      <td>-118.304883</td>\n",
       "    </tr>\n",
       "    <tr>\n",
       "      <th>3</th>\n",
       "      <td>4</td>\n",
       "      <td>HOLLENBECK</td>\n",
       "      <td>2111 E. 1ST ST.</td>\n",
       "      <td>34.044700</td>\n",
       "      <td>-118.213150</td>\n",
       "    </tr>\n",
       "    <tr>\n",
       "      <th>4</th>\n",
       "      <td>5</td>\n",
       "      <td>HARBOR</td>\n",
       "      <td>2175 JOHN S. GIBSON BLVD.</td>\n",
       "      <td>33.757466</td>\n",
       "      <td>-118.288874</td>\n",
       "    </tr>\n",
       "  </tbody>\n",
       "</table>\n",
       "</div>"
      ],
      "text/plain": [
       "   precinct    division                           location   latitude  \\\n",
       "0         1     CENTRAL                     251 E. 6TH ST.  34.043882   \n",
       "1         2     RAMPART                    1401 W. 6TH ST.  34.056330   \n",
       "2         3   SOUTHWEST  1546 MARTIN LUTHER KING JR. BLVD.  34.010815   \n",
       "3         4  HOLLENBECK                    2111 E. 1ST ST.  34.044700   \n",
       "4         5      HARBOR          2175 JOHN S. GIBSON BLVD.  33.757466   \n",
       "\n",
       "    longitude  \n",
       "0 -118.247710  \n",
       "1 -118.267360  \n",
       "2 -118.304883  \n",
       "3 -118.213150  \n",
       "4 -118.288874  "
      ]
     },
     "execution_count": 4,
     "metadata": {},
     "output_type": "execute_result"
    }
   ],
   "source": [
    "lapd_precinct_data = pd.read_csv('generated_data/lapd_precinct_data.csv')\n",
    "lapd_precinct_data.head()"
   ]
  },
  {
   "cell_type": "markdown",
   "metadata": {},
   "source": [
    "## Cleaning the LAPD Crime Dataset\n",
    "\n",
    "First, only the pertinent columns from the dataset were read into a dataframe. These columns were:\n",
    "- DR Number\n",
    "- Date Occurred\n",
    "- Time Occurred\n",
    "- Area ID\n",
    "- Area Name\n",
    "- Crime Code Description\n",
    "- Location"
   ]
  },
  {
   "cell_type": "code",
   "execution_count": 5,
   "metadata": {},
   "outputs": [],
   "source": [
    "crime_data_cols = ['DR Number', 'Date Occurred', 'Time Occurred', 'Area ID', 'Area Name', 'Crime Code Description', 'Location ']\n",
    "lapd_crime_data_raw = pd.read_csv('input_data/Crime_Data_from_2010_to_Present.csv', usecols=crime_data_cols)\n",
    "lapd_crime_data_raw.head()"
   ]
  },
  {
   "cell_type": "markdown",
   "metadata": {},
   "source": [
    "The next step was to clean the data. This involved:\n",
    "- Removing whitespace from column names\n",
    "- Converting column names into lower case\n",
    "- Splitting location data into latitude and longitude\n",
    "- Dropping rows that contained NaN\n",
    "- Typecasting columns\n",
    "- Extracting additional information from Time and Date Occurred such as hour, minute, day of the week, date, month\n",
    "- Finally, extracting only the crime records corresponding to the year 2018\n",
    "\n",
    "Again, to speed up processing, the cleaned dataframe was stored locally on the machine.\n"
   ]
  },
  {
   "cell_type": "code",
   "execution_count": 6,
   "metadata": {},
   "outputs": [],
   "source": [
    "lapd_crime_data = lapd_crime_data_raw\n",
    "lapd_crime_data.columns = lapd_crime_data.columns.str.strip()\n",
    "lapd_crime_data.columns = lapd_crime_data.columns.str.replace('\\s{2,}', ' ')\n",
    "lapd_crime_data.columns = lapd_crime_data.columns.str.replace(' ', '_')\n",
    "lapd_crime_data.columns = lapd_crime_data.columns.str.lower()\n",
    "lapd_crime_data['location'] = lapd_crime_data['location'].str.lstrip('\\(').str.rstrip('\\)')\n",
    "lapd_crime_data['latitude'], lapd_crime_data['longitude'] = lapd_crime_data['location'].str.split(',', 1).str\n",
    "lapd_crime_data = lapd_crime_data.drop('location', axis=1)\n",
    "lapd_crime_data.dropna(inplace=True)\n",
    "lapd_crime_data = lapd_crime_data.reset_index(drop=True)\n",
    "lapd_crime_data['latitude'] = lapd_crime_data['latitude'].astype(float)\n",
    "lapd_crime_data['longitude'] = lapd_crime_data['longitude'].astype(float)\n",
    "lapd_crime_data['date_occurred'] = pd.to_datetime(lapd_crime_data['date_occurred'], format='%m/%d/%Y')\n",
    "lapd_crime_data['date'] = lapd_crime_data['date_occurred'].dt.strftime('%d')\n",
    "lapd_crime_data['day'] = lapd_crime_data['date_occurred'].dt.dayofweek + 1\n",
    "lapd_crime_data['day_'] = lapd_crime_data['date_occurred'].dt.strftime('%A')\n",
    "lapd_crime_data['month'] = lapd_crime_data['date_occurred'].dt.month\n",
    "lapd_crime_data['month_'] = lapd_crime_data['date_occurred'].dt.strftime('%B')\n",
    "lapd_crime_data['year'] = lapd_crime_data['date_occurred'].dt.year\n",
    "lapd_crime_data['year_'] = lapd_crime_data['date_occurred'].dt.to_period('M')\n",
    "lapd_crime_data['hour'] = lapd_crime_data['time_occurred'] // 100\n",
    "lapd_crime_data['min'] = lapd_crime_data['time_occurred'] % 100\n",
    "lapd_crime_data['time_occurred'] = lapd_crime_data['time_occurred'].astype(str)\n",
    "lapd_crime_data['time_occurred'] = lapd_crime_data['time_occurred'].apply(lambda x: x.zfill(4))\n",
    "lapd_crime_data = lapd_crime_data.assign(newtime=pd.to_datetime(lapd_crime_data.time_occurred, format='%H%M').dt.time)\n",
    "lapd_crime_data = lapd_crime_data.drop('time_occurred', axis=1)\n",
    "lapd_crime_data.rename(columns={'newtime': 'time_occurred'}, inplace=True)\n",
    "lapd_crime_data_2018 = lapd_crime_data.loc[lapd_crime_data.year == 2018]\n",
    "lapd_crime_data_2018 = lapd_crime_data_2018.reset_index(drop=True)"
   ]
  },
  {
   "cell_type": "markdown",
   "metadata": {},
   "source": [
    "The precinct and crime dataframes were merged on the Area ID column to get a combined dataframe which was stored locally on the machine."
   ]
  },
  {
   "cell_type": "code",
   "execution_count": 7,
   "metadata": {},
   "outputs": [],
   "source": [
    "merged_data_cols = ['dr_number', 'crime_code_description', 'date_occurred', 'time_occurred', 'area_name', 'area_id', 'year', 'year_', 'month', 'month_', 'date', 'day', 'day_', 'hour', 'min', 'latitude_crime', 'longitude_crime']\n",
    "lapd_crime_data_2018_merged = pd.merge(lapd_crime_data_2018, lapd_precinct_data, left_on='area_id', right_on='precinct', how='left', suffixes=('_crime', '_precinct')) \n",
    "lapd_crime_data_2018_merged = lapd_crime_data_2018_merged[merged_data_cols]\n",
    "lapd_crime_data_2018_merged['time_occurred'] = pd.to_datetime(lapd_crime_data_2018_merged['time_occurred'], format='%H:%M:%S').dt.round('H').dt.time\n",
    "\n",
    "lapd_crime_data_2018_merged.to_csv('generated_data/lapd_crime_data_2018_merged.csv', index=False)"
   ]
  },
  {
   "cell_type": "code",
   "execution_count": 8,
   "metadata": {},
   "outputs": [
    {
     "data": {
      "text/html": [
       "<div>\n",
       "<style scoped>\n",
       "    .dataframe tbody tr th:only-of-type {\n",
       "        vertical-align: middle;\n",
       "    }\n",
       "\n",
       "    .dataframe tbody tr th {\n",
       "        vertical-align: top;\n",
       "    }\n",
       "\n",
       "    .dataframe thead th {\n",
       "        text-align: right;\n",
       "    }\n",
       "</style>\n",
       "<table border=\"1\" class=\"dataframe\">\n",
       "  <thead>\n",
       "    <tr style=\"text-align: right;\">\n",
       "      <th></th>\n",
       "      <th>dr_number</th>\n",
       "      <th>crime_code_description</th>\n",
       "      <th>date_occurred</th>\n",
       "      <th>time_occurred</th>\n",
       "      <th>area_name</th>\n",
       "      <th>area_id</th>\n",
       "      <th>year</th>\n",
       "      <th>year_</th>\n",
       "      <th>month</th>\n",
       "      <th>month_</th>\n",
       "      <th>date</th>\n",
       "      <th>day</th>\n",
       "      <th>day_</th>\n",
       "      <th>hour</th>\n",
       "      <th>min</th>\n",
       "      <th>latitude_crime</th>\n",
       "      <th>longitude_crime</th>\n",
       "    </tr>\n",
       "  </thead>\n",
       "  <tbody>\n",
       "    <tr>\n",
       "      <th>0</th>\n",
       "      <td>180210061</td>\n",
       "      <td>THEFT FROM MOTOR VEHICLE - GRAND ($400 AND OVER)</td>\n",
       "      <td>2018-04-18</td>\n",
       "      <td>08:00:00</td>\n",
       "      <td>Rampart</td>\n",
       "      <td>2</td>\n",
       "      <td>2018</td>\n",
       "      <td>2018-04</td>\n",
       "      <td>4</td>\n",
       "      <td>April</td>\n",
       "      <td>18</td>\n",
       "      <td>3</td>\n",
       "      <td>Wednesday</td>\n",
       "      <td>8</td>\n",
       "      <td>30</td>\n",
       "      <td>34.0565</td>\n",
       "      <td>-118.2768</td>\n",
       "    </tr>\n",
       "    <tr>\n",
       "      <th>1</th>\n",
       "      <td>180210062</td>\n",
       "      <td>THEFT PLAIN - PETTY ($950 &amp; UNDER)</td>\n",
       "      <td>2018-04-17</td>\n",
       "      <td>11:00:00</td>\n",
       "      <td>Rampart</td>\n",
       "      <td>2</td>\n",
       "      <td>2018</td>\n",
       "      <td>2018-04</td>\n",
       "      <td>4</td>\n",
       "      <td>April</td>\n",
       "      <td>17</td>\n",
       "      <td>2</td>\n",
       "      <td>Tuesday</td>\n",
       "      <td>11</td>\n",
       "      <td>0</td>\n",
       "      <td>34.0570</td>\n",
       "      <td>-118.2691</td>\n",
       "    </tr>\n",
       "    <tr>\n",
       "      <th>2</th>\n",
       "      <td>180210065</td>\n",
       "      <td>THEFT FROM MOTOR VEHICLE - PETTY ($950 &amp; UNDER)</td>\n",
       "      <td>2018-04-16</td>\n",
       "      <td>10:00:00</td>\n",
       "      <td>Rampart</td>\n",
       "      <td>2</td>\n",
       "      <td>2018</td>\n",
       "      <td>2018-04</td>\n",
       "      <td>4</td>\n",
       "      <td>April</td>\n",
       "      <td>16</td>\n",
       "      <td>1</td>\n",
       "      <td>Monday</td>\n",
       "      <td>10</td>\n",
       "      <td>30</td>\n",
       "      <td>34.0554</td>\n",
       "      <td>-118.2702</td>\n",
       "    </tr>\n",
       "    <tr>\n",
       "      <th>3</th>\n",
       "      <td>180210067</td>\n",
       "      <td>ROBBERY</td>\n",
       "      <td>2018-04-18</td>\n",
       "      <td>08:00:00</td>\n",
       "      <td>Rampart</td>\n",
       "      <td>2</td>\n",
       "      <td>2018</td>\n",
       "      <td>2018-04</td>\n",
       "      <td>4</td>\n",
       "      <td>April</td>\n",
       "      <td>18</td>\n",
       "      <td>3</td>\n",
       "      <td>Wednesday</td>\n",
       "      <td>8</td>\n",
       "      <td>0</td>\n",
       "      <td>34.0453</td>\n",
       "      <td>-118.2738</td>\n",
       "    </tr>\n",
       "    <tr>\n",
       "      <th>4</th>\n",
       "      <td>180210068</td>\n",
       "      <td>VEHICLE - STOLEN</td>\n",
       "      <td>2018-04-14</td>\n",
       "      <td>17:00:00</td>\n",
       "      <td>Rampart</td>\n",
       "      <td>2</td>\n",
       "      <td>2018</td>\n",
       "      <td>2018-04</td>\n",
       "      <td>4</td>\n",
       "      <td>April</td>\n",
       "      <td>14</td>\n",
       "      <td>6</td>\n",
       "      <td>Saturday</td>\n",
       "      <td>17</td>\n",
       "      <td>0</td>\n",
       "      <td>34.0663</td>\n",
       "      <td>-118.2789</td>\n",
       "    </tr>\n",
       "  </tbody>\n",
       "</table>\n",
       "</div>"
      ],
      "text/plain": [
       "   dr_number                            crime_code_description date_occurred  \\\n",
       "0  180210061  THEFT FROM MOTOR VEHICLE - GRAND ($400 AND OVER)    2018-04-18   \n",
       "1  180210062                THEFT PLAIN - PETTY ($950 & UNDER)    2018-04-17   \n",
       "2  180210065   THEFT FROM MOTOR VEHICLE - PETTY ($950 & UNDER)    2018-04-16   \n",
       "3  180210067                                           ROBBERY    2018-04-18   \n",
       "4  180210068                                  VEHICLE - STOLEN    2018-04-14   \n",
       "\n",
       "  time_occurred area_name  area_id  year    year_  month month_  date  day  \\\n",
       "0      08:00:00   Rampart        2  2018  2018-04      4  April    18    3   \n",
       "1      11:00:00   Rampart        2  2018  2018-04      4  April    17    2   \n",
       "2      10:00:00   Rampart        2  2018  2018-04      4  April    16    1   \n",
       "3      08:00:00   Rampart        2  2018  2018-04      4  April    18    3   \n",
       "4      17:00:00   Rampart        2  2018  2018-04      4  April    14    6   \n",
       "\n",
       "        day_  hour  min  latitude_crime  longitude_crime  \n",
       "0  Wednesday     8   30         34.0565        -118.2768  \n",
       "1    Tuesday    11    0         34.0570        -118.2691  \n",
       "2     Monday    10   30         34.0554        -118.2702  \n",
       "3  Wednesday     8    0         34.0453        -118.2738  \n",
       "4   Saturday    17    0         34.0663        -118.2789  "
      ]
     },
     "execution_count": 8,
     "metadata": {},
     "output_type": "execute_result"
    }
   ],
   "source": [
    "lapd_crime_data_2018_merged = pd.read_csv('generated_data/lapd_crime_data_2018_merged.csv')\n",
    "lapd_crime_data_2018_merged.head()"
   ]
  },
  {
   "cell_type": "code",
   "execution_count": 9,
   "metadata": {},
   "outputs": [
    {
     "data": {
      "text/plain": [
       "(224627, 17)"
      ]
     },
     "execution_count": 9,
     "metadata": {},
     "output_type": "execute_result"
    }
   ],
   "source": [
    "lapd_crime_data_2018_merged.shape"
   ]
  },
  {
   "cell_type": "markdown",
   "metadata": {},
   "source": [
    "A little more cleanup of the date-time information"
   ]
  },
  {
   "cell_type": "code",
   "execution_count": 10,
   "metadata": {},
   "outputs": [],
   "source": [
    "lapd_crime_data_2018_merged['dt'] = pd.to_datetime(lapd_crime_data_2018_merged['date_occurred'] + ' ' + lapd_crime_data_2018_merged['time_occurred'])\n",
    "lapd_crime_data_2018_merged = lapd_crime_data_2018_merged.sort_values(['dt'], ascending=True).reset_index(drop=True)\n",
    "lapd_crime_data_2018_merged = lapd_crime_data_2018_merged[lapd_crime_data_2018_merged.latitude_crime != 0]\n",
    "lapd_crime_data_2018_merged = lapd_crime_data_2018_merged[lapd_crime_data_2018_merged.longitude_crime != 0]"
   ]
  },
  {
   "cell_type": "markdown",
   "metadata": {},
   "source": [
    "## Visualization\n",
    "\n",
    "We can now visualize the crimes that were committed in 2018 based on various parameters such as number of crimes per:\n",
    "- Type of crime\n",
    "- Per month\n",
    "- Per day of the week\n",
    "- Per day of the month\n",
    "- Per time of day\n",
    "- Per area (name)"
   ]
  },
  {
   "cell_type": "markdown",
   "metadata": {},
   "source": [
    "### Number of crimes per Crime Code Description\n",
    "The top 25 crimes from 2018 were plotted on a bar chart. It was not very surprising to see there were a lot of theft and assault related crimes. The large number of Identity Theft cases was a surprise - perhaps we can thank Equifax for that?"
   ]
  },
  {
   "cell_type": "code",
   "execution_count": 11,
   "metadata": {},
   "outputs": [
    {
     "data": {
      "text/plain": [
       "Text(0.5, 1.0, 'Number of crimes per crime code description (Top 25 Crimes)')"
      ]
     },
     "execution_count": 11,
     "metadata": {},
     "output_type": "execute_result"
    },
    {
     "data": {
      "image/png": "[encoded data removed]",
      "text/plain": [
       "<Figure size 720x432 with 1 Axes>"
      ]
     },
     "metadata": {
      "needs_background": "light"
     },
     "output_type": "display_data"
    }
   ],
   "source": [
    "lapd_crime_data_2018_merged_case = lapd_crime_data_2018_merged.groupby('crime_code_description').count().sort_values(['dr_number'], ascending=False)\n",
    "lapd_crime_data_2018_merged_case.head(25)\n",
    "lapd_crime_data_2018_merged_case[:25].plot(y='dr_number', kind='bar', figsize=(10,6), width=0.75, )\n",
    "plt.xlabel('Crime Code Description')\n",
    "plt.ylabel('Number of crimes')\n",
    "plt.title('Number of crimes per crime code description (Top 25 Crimes)')"
   ]
  },
  {
   "cell_type": "markdown",
   "metadata": {},
   "source": [
    "### Number of crimes per Month\n",
    "The crimes from 2018 were plotted on a bar chart as number of crimes per month. The number of crimes stayed consistent with a dip in February, which can be attributed to a lower number of days in the month and an increase in the summer months."
   ]
  },
  {
   "cell_type": "code",
   "execution_count": 12,
   "metadata": {
    "scrolled": false
   },
   "outputs": [
    {
     "data": {
      "image/png": "[encoded data removed]",
      "text/plain": [
       "<Figure size 720x432 with 1 Axes>"
      ]
     },
     "metadata": {
      "needs_background": "light"
     },
     "output_type": "display_data"
    }
   ],
   "source": [
    "lapd_crime_data_2018_merged_month = lapd_crime_data_2018_merged.groupby('year_').count()\n",
    "lapd_crime_data_2018_merged_month.head(25)\n",
    "lapd_crime_data_2018_merged_month.plot(y='dr_number', kind='bar', figsize=(10,6), width=0.75, )\n",
    "plt.xlabel('Month')\n",
    "plt.ylabel('Number of crimes')\n",
    "plt.title('Number of crimes per month');"
   ]
  },
  {
   "cell_type": "markdown",
   "metadata": {},
   "source": [
    "### Number of crimes per Day of the Week\n",
    "The crimes from 2018 were plotted on a bar chart as number of crimes per day of the week. The number of crimes stayed consistent with a slight increase on Fridays (day 5)."
   ]
  },
  {
   "cell_type": "code",
   "execution_count": 13,
   "metadata": {
    "scrolled": false
   },
   "outputs": [
    {
     "data": {
      "image/png": "[encoded data removed]",
      "text/plain": [
       "<Figure size 720x432 with 1 Axes>"
      ]
     },
     "metadata": {
      "needs_background": "light"
     },
     "output_type": "display_data"
    }
   ],
   "source": [
    "lapd_crime_data_2018_merged_day = lapd_crime_data_2018_merged.groupby('day').count()\n",
    "lapd_crime_data_2018_merged_day.head(25)\n",
    "lapd_crime_data_2018_merged_day.plot(y='dr_number', kind='bar', figsize=(10,6), width=0.75, )\n",
    "plt.xlabel('Day of week')\n",
    "plt.ylabel('Number of crimes')\n",
    "plt.title('Number of crimes per day of week');"
   ]
  },
  {
   "cell_type": "markdown",
   "metadata": {},
   "source": [
    "### Number of crimes per Day of the Month\n",
    "The crimes from 2018 were plotted on a bar chart as number of crimes per day of the month. The number of crimes stayed consistent throughout the month typically. The drop in number of crimes on the 31st is because not every month has 31 days. Similarly with reduced contributions from February (29th and 30th). It could potentially be an issue and the data would likely need a weighted average of some kind to scale it uniformly. \n",
    "\n",
    "The spike in crimes on the 1st day of the month is surprising. It could perhaps be attributed to pay days and the need for money to cover bills. Also, a careful look at the data revealed a significant percentage of the crimes on the 1st was on 1/1. NYE sees a lot of revellers out late and it could be a big driver in crimes on that date."
   ]
  },
  {
   "cell_type": "code",
   "execution_count": 14,
   "metadata": {
    "scrolled": false
   },
   "outputs": [
    {
     "data": {
      "image/png": "[encoded data removed]",
      "text/plain": [
       "<Figure size 720x432 with 1 Axes>"
      ]
     },
     "metadata": {
      "needs_background": "light"
     },
     "output_type": "display_data"
    }
   ],
   "source": [
    "lapd_crime_data_2018_merged_date = lapd_crime_data_2018_merged.groupby('date').count()\n",
    "lapd_crime_data_2018_merged_date.head(25)\n",
    "lapd_crime_data_2018_merged_date.plot(y='dr_number', kind='bar', figsize=(10,6), width=0.75, )\n",
    "plt.xlabel('Day of month')\n",
    "plt.ylabel('Number of crimes')\n",
    "plt.title('Number of crimes per day of month');"
   ]
  },
  {
   "cell_type": "markdown",
   "metadata": {},
   "source": [
    "### Number of crimes per Time of Day\n",
    "The crimes from 2018 were plotted on a bar chart as number of crimes per time of day. The drop after midnight is not surprising. The spike at noon is though while the spikes later in the evening are as expected."
   ]
  },
  {
   "cell_type": "code",
   "execution_count": 15,
   "metadata": {
    "scrolled": false
   },
   "outputs": [
    {
     "data": {
      "image/png": "[encoded data removed]",
      "text/plain": [
       "<Figure size 720x432 with 1 Axes>"
      ]
     },
     "metadata": {
      "needs_background": "light"
     },
     "output_type": "display_data"
    }
   ],
   "source": [
    "lapd_crime_data_2018_merged_time = lapd_crime_data_2018_merged.groupby('time_occurred').count()\n",
    "lapd_crime_data_2018_merged_time.head(25)\n",
    "lapd_crime_data_2018_merged_time.plot(y='dr_number', kind='bar', figsize=(10,6), width=0.75, )\n",
    "plt.xlabel('Time of day')\n",
    "plt.ylabel('Number of crimes')\n",
    "plt.title('Number of crimes per time of day');"
   ]
  },
  {
   "cell_type": "markdown",
   "metadata": {},
   "source": [
    "### Number of crimes per Area\n",
    "The crimes from 2018 were plotted on a bar chart as number of crimes per area of occurrence. It is clear which areas are the most dangerous - 77th Street, Central and Southwest are not the best neighborhoods in the city either. "
   ]
  },
  {
   "cell_type": "code",
   "execution_count": 16,
   "metadata": {},
   "outputs": [
    {
     "data": {
      "image/png": "[encoded data removed]",
      "text/plain": [
       "<Figure size 720x432 with 1 Axes>"
      ]
     },
     "metadata": {
      "needs_background": "light"
     },
     "output_type": "display_data"
    }
   ],
   "source": [
    "lapd_crime_data_2018_merged_area = lapd_crime_data_2018_merged.groupby('area_name').count()\n",
    "lapd_crime_data_2018_merged_area.head(25)\n",
    "lapd_crime_data_2018_merged_area.plot(y='dr_number', kind='bar', figsize=(10,6), width=0.75, )\n",
    "plt.xlabel('Area')\n",
    "plt.ylabel('Number of crimes')\n",
    "plt.title('Number of crimes per area');"
   ]
  },
  {
   "cell_type": "markdown",
   "metadata": {},
   "source": [
    "## More Cool Visualizations\n",
    "The next section has some cool visualiztions that show the crime distributions in the city using choropleths, heat maps and cluster maps."
   ]
  },
  {
   "cell_type": "code",
   "execution_count": 17,
   "metadata": {},
   "outputs": [],
   "source": [
    "address = 'Los Angeles, CA'\n",
    "geolocator = Nominatim(user_agent='explorer')\n",
    "location = geolocator.geocode(address)\n",
    "latitude = location.latitude\n",
    "longitude = location.longitude"
   ]
  },
  {
   "cell_type": "markdown",
   "metadata": {},
   "source": [
    "The top 5 crimes by count were selected from the 2018 crime dataframe. These were assigned a color and the result was charted using folium."
   ]
  },
  {
   "cell_type": "code",
   "execution_count": 18,
   "metadata": {},
   "outputs": [],
   "source": [
    "lapd_crime_2018_top5 = lapd_crime_data_2018_merged_case.head(5).index.tolist()\n",
    "lapd_crime_data_2018_top5 = lapd_crime_data_2018_merged[lapd_crime_data_2018_merged['crime_code_description'].isin(lapd_crime_2018_top5)].reset_index(drop=True)\n",
    "\n",
    "colors = ['red', 'blue', 'green', 'orange', 'purple'] \n",
    "colordict = dict(zip(lapd_crime_2018_top5, colors))\n",
    "lapd_crime_data_2018_top5['color'] = lapd_crime_data_2018_top5['crime_code_description'].apply(lambda x: colordict[x])"
   ]
  },
  {
   "cell_type": "code",
   "execution_count": 19,
   "metadata": {
    "scrolled": false
   },
   "outputs": [],
   "source": [
    "la_map = folium.Map(location=[latitude, longitude], zoom_start=11)\n",
    "la_map\n",
    "\n",
    "incidents = folium.map.FeatureGroup()\n",
    "for _, row in lapd_crime_data_2018_top5.iterrows():\n",
    "    popup_text = '{} <br> Date: {} <br> Time: {}'.format(row.crime_code_description, row.date_occurred, row.time_occurred)\n",
    "    \n",
    "    incidents.add_child(\n",
    "        folium.features.CircleMarker(\n",
    "            [row.latitude_crime, row.longitude_crime],\n",
    "            radius = 2.5,\n",
    "            color = row.color,\n",
    "            popup = popup_text,\n",
    "            fill = True,\n",
    "            fill_color = col,\n",
    "            fill_opacity = 0.6,\n",
    "            prefer_canvas = True\n",
    "        )\n",
    "    )\n",
    "\n",
    "# add incidents to map\n",
    "la_map.add_child(incidents)\n",
    "la_map.save('html_maps/la_map.html')"
   ]
  },
  {
   "cell_type": "markdown",
   "metadata": {},
   "source": [
    "![](images/1_la_map.png)"
   ]
  },
  {
   "cell_type": "code",
   "execution_count": 20,
   "metadata": {},
   "outputs": [],
   "source": [
    "la_cluster_map = folium.Map(location = [latitude, longitude], zoom_start = 12)\n",
    "\n",
    "incidents = plugins.MarkerCluster().add_to(la_cluster_map)\n",
    "\n",
    "for lat, lng, label, in zip(lapd_crime_data_2018_top5.latitude_crime, lapd_crime_data_2018_top5.longitude_crime, lapd_crime_data_2018_top5.crime_code_description):\n",
    "    folium.Marker(\n",
    "        location = [lat, lng],\n",
    "        icon = None,\n",
    "        popup = label,\n",
    "    ).add_to(incidents)\n",
    "\n",
    "la_cluster_map.save('html_maps/la_cluster_map.html')"
   ]
  },
  {
   "cell_type": "markdown",
   "metadata": {},
   "source": [
    "![](images/2_la_cluster_map.png)"
   ]
  },
  {
   "cell_type": "code",
   "execution_count": 21,
   "metadata": {},
   "outputs": [],
   "source": [
    "la_choropleth_map = folium.Map(location = [latitude, longitude], zoom_start = 10)\n",
    "\n",
    "lapd_json = r'input_data/lapd-divisions.geojson'\n",
    "\n",
    "df_agg = lapd_crime_data_2018_merged.groupby(by='area_name').size().reset_index(name='count')\n",
    "\n",
    "threshold_scale = np.linspace(df_agg['count'].min(), df_agg['count'].max(), 6, dtype=int)\n",
    "threshold_scale = threshold_scale.tolist()\n",
    "threshold_scale[-1] += 1\n",
    "\n",
    "la_choropleth_map.choropleth(\n",
    "    legend_name = 'Crime Rate in Los Angeles',\n",
    "    threshold_scale=threshold_scale,\n",
    "    geo_data = lapd_json,\n",
    "    data = df_agg,\n",
    "    columns = ['area_name', 'count'],\n",
    "    key_on = 'feature.properties.name',\n",
    "    fill_color = 'YlOrRd',\n",
    "    fill_opacity = 0.7,\n",
    "    line_opacity = 0.2,\n",
    ")\n",
    "\n",
    "la_choropleth_map.save('html_maps/la_choropleth_map.html')"
   ]
  },
  {
   "cell_type": "markdown",
   "metadata": {},
   "source": [
    "![](images/3_la_choropleth_map.png)"
   ]
  },
  {
   "cell_type": "code",
   "execution_count": 22,
   "metadata": {},
   "outputs": [],
   "source": [
    "la_heat_map = folium.Map(location = [latitude, longitude], zoom_start = 10)\n",
    "\n",
    "map_data = [[row.latitude_crime, row.longitude_crime] for _, row in lapd_crime_data_2018_merged.iterrows()]\n",
    "\n",
    "plugins.HeatMap(map_data,\n",
    "        min_opacity = 0.5,\n",
    "        max_zoom = 18, \n",
    "        max_val = 1.0, \n",
    "        radius = 12.5,\n",
    "        blur = 25,\n",
    "        gradient = None,\n",
    "        overlay = True).add_to(la_heat_map)\n",
    "\n",
    "la_heat_map.save('html_maps/la_heat_map.html')"
   ]
  },
  {
   "cell_type": "markdown",
   "metadata": {},
   "source": [
    "![](images/4_la_heat_map.png)"
   ]
  },
  {
   "cell_type": "markdown",
   "metadata": {},
   "source": [
    "I also generated some dynamic marker and heat maps to visualize the top 5 crimes over time"
   ]
  },
  {
   "cell_type": "code",
   "execution_count": 23,
   "metadata": {},
   "outputs": [],
   "source": [
    "def create_geojson_features(df):\n",
    "    features = []\n",
    "    for _, row in df.iterrows():\n",
    "        feature = {\n",
    "            'type': 'Feature',\n",
    "            'geometry': {\n",
    "                'type':'Point', \n",
    "                'coordinates':[row['longitude_crime'],row['latitude_crime']]\n",
    "            },\n",
    "            'properties': {\n",
    "                'time': row['dt'].date().__str__(),\n",
    "                'style': {'color' : row['color']},\n",
    "                'icon': 'circle',\n",
    "                'iconstyle':{\n",
    "                    'fillColor': row['color'],\n",
    "                    'fillOpacity': 0.8,\n",
    "                    'stroke': 'true',\n",
    "                    'radius': 7\n",
    "                }\n",
    "            }\n",
    "        }\n",
    "        features.append(feature)\n",
    "    return features\n",
    "\n",
    "def make_map(features):\n",
    "    coords = [latitude, longitude]\n",
    "    la_map_dynamic = folium.Map(location=coords, control_scale=True, zoom_start=8)\n",
    "\n",
    "    plugins.TimestampedGeoJson(\n",
    "        {'type': 'FeatureCollection',\n",
    "        'features': features}, \n",
    "        period='P1M',\n",
    "        add_last_point=True,\n",
    "        auto_play=False,\n",
    "        loop=False\n",
    "    ).add_to(la_map_dynamic)\n",
    "    return la_map_dynamic\n",
    "\n",
    "features = create_geojson_features(lapd_crime_data_2018_top5)\n",
    "feature_collection = geojson.FeatureCollection(features)\n",
    "\n",
    "with open('generated_data/myfile.geojson', 'w') as f:\n",
    "   geojson.dump(feature_collection, f)\n",
    "\n",
    "la_map_dynamic = make_map(features)\n",
    "la_map_dynamic.save('html_maps/la_map_dynamic.html')"
   ]
  },
  {
   "cell_type": "code",
   "execution_count": 24,
   "metadata": {},
   "outputs": [],
   "source": [
    "heat_df = lapd_crime_data_2018_merged.copy()\n",
    "heat_df = heat_df[['latitude_crime', 'longitude_crime', 'month', 'date_occurred']]\n",
    "heat_df['Weight'] = heat_df['month']\n",
    "heat_df['Weight'] = heat_df['Weight'].astype(float)\n",
    "heat_df = heat_df.dropna(axis=0, subset=['latitude_crime','longitude_crime', 'Weight'])\n",
    "\n",
    "heat_data = [[[row['latitude_crime'],row['longitude_crime'],row['Weight']] \n",
    "                for index, row in heat_df[heat_df['Weight'] == i].iterrows()] \n",
    "                 for i in range(1,13)]\n",
    "\n",
    "la_heat_map = folium.Map(location = [latitude, longitude], zoom_start = 11)\n",
    "idx = lapd_crime_data_2018_merged.year_.unique().tolist()\n",
    "hm = plugins.HeatMapWithTime(heat_data, index=idx)\n",
    "hm.add_to(la_heat_map)\n",
    "\n",
    "# Display the map\n",
    "la_heat_map.save('html_maps/la_heat_map_monthly_dynamic.html')"
   ]
  },
  {
   "cell_type": "markdown",
   "metadata": {},
   "source": [
    "Another cool line chart visualizing the top 5 crimes over the year"
   ]
  },
  {
   "cell_type": "code",
   "execution_count": 25,
   "metadata": {},
   "outputs": [],
   "source": [
    "lapd_crime_data_2018_crime_by_date = lapd_crime_data_2018_merged['dt'].dt.date.value_counts().sort_index()\n",
    "\n",
    "plot = figure(x_axis_type='datetime', tools='',\n",
    "              toolbar_location=None, x_axis_label='Dates',\n",
    "            y_axis_label='Crime count', title='Hover over line to see crime counts', width=1800)\n",
    "\n",
    "plot.line(lapd_crime_data_2018_crime_by_date.index, lapd_crime_data_2018_crime_by_date.values, \n",
    "          line_dash='4 4', line_width=1, color='red')\n",
    "\n",
    "cr = plot.circle(lapd_crime_data_2018_crime_by_date.index, lapd_crime_data_2018_crime_by_date.values, size=10,\n",
    "                fill_color='gold', hover_fill_color='black',\n",
    "                fill_alpha=0.05, hover_alpha=0.5,\n",
    "                line_color=None, hover_line_color='black')\n",
    "plot.left[0].formatter.use_scientific = False\n",
    "\n",
    "plot.add_tools(HoverTool(tooltips=None, renderers=[cr], mode='hline'))\n",
    "\n",
    "show(plot)\n",
    "# output_file('html_maps/la_crime_by_date.html')\n",
    "# save(plot)"
   ]
  },
  {
   "cell_type": "markdown",
   "metadata": {},
   "source": [
    "![](images/5_la_crime_by_date.png)"
   ]
  },
  {
   "cell_type": "markdown",
   "metadata": {},
   "source": [
    "## Data Modeling\n",
    "The 2018 crime data frame was modeled using a Random Forest algorithm. The classification of crimes was based on location, time and date.\n",
    "\n",
    "- The first step was to classify dangerous crimes such as assault and theft related crimes and assign them a value 1. All other crimes were classified with a 0.\n",
    "- The next step was applying One-Hot Encoding on the hour of day, day of month, month, latitude and longitude where the crime occurred."
   ]
  },
  {
   "cell_type": "code",
   "execution_count": 26,
   "metadata": {},
   "outputs": [],
   "source": [
    "dangerous_crimes = ['BATTERY - SIMPLE ASSAULT',\n",
    " 'BURGLARY FROM VEHICLE',\n",
    " 'VEHICLE - STOLEN',\n",
    " 'THEFT PLAIN - PETTY ($950 & UNDER)',\n",
    " 'BURGLARY',\n",
    " 'ASSAULT WITH DEADLY WEAPON, AGGRAVATED ASSAULT',\n",
    " 'THEFT FROM MOTOR VEHICLE - PETTY ($950 & UNDER)',\n",
    " 'CRIMINAL THREATS - NO WEAPON DISPLAYED',\n",
    " 'THEFT FROM MOTOR VEHICLE - GRAND ($400 AND OVER)',\n",
    " 'BRANDISH WEAPON',\n",
    " 'BATTERY WITH SEXUAL CONTACT',\n",
    " 'RAPE, FORCIBLE',\n",
    " 'OTHER ASSAULT',\n",
    " 'DISCHARGE FIREARMS/SHOTS FIRED',\n",
    " 'VEHICLE - ATTEMPT STOLEN',\n",
    " 'CRIMINAL HOMICIDE',\n",
    " 'BURGLARY FROM VEHICLE, ATTEMPTED',\n",
    " 'PICKPOCKET',\n",
    " 'KIDNAPPING',\n",
    " 'THEFT FROM MOTOR VEHICLE - ATTEMPT',\n",
    " 'PURSE SNATCHING',\n",
    " 'RAPE, ATTEMPTED',\n",
    " 'THEFT FROM PERSON - ATTEMPT',\n",
    " 'SHOTS FIRED AT MOVING VEHICLE, TRAIN OR AIRCRAFT',\n",
    " 'PURSE SNATCHING - ATTEMPT',\n",
    " 'PICKPOCKET, ATTEMPT']"
   ]
  },
  {
   "cell_type": "code",
   "execution_count": 27,
   "metadata": {
    "scrolled": true
   },
   "outputs": [
    {
     "data": {
      "text/html": [
       "<div>\n",
       "<style scoped>\n",
       "    .dataframe tbody tr th:only-of-type {\n",
       "        vertical-align: middle;\n",
       "    }\n",
       "\n",
       "    .dataframe tbody tr th {\n",
       "        vertical-align: top;\n",
       "    }\n",
       "\n",
       "    .dataframe thead th {\n",
       "        text-align: right;\n",
       "    }\n",
       "</style>\n",
       "<table border=\"1\" class=\"dataframe\">\n",
       "  <thead>\n",
       "    <tr style=\"text-align: right;\">\n",
       "      <th></th>\n",
       "      <th>crime_code_description</th>\n",
       "      <th>latitude_crime</th>\n",
       "      <th>longitude_crime</th>\n",
       "      <th>hour_0</th>\n",
       "      <th>hour_1</th>\n",
       "      <th>hour_2</th>\n",
       "      <th>hour_3</th>\n",
       "      <th>hour_4</th>\n",
       "      <th>hour_5</th>\n",
       "      <th>hour_6</th>\n",
       "      <th>hour_7</th>\n",
       "      <th>hour_8</th>\n",
       "      <th>hour_9</th>\n",
       "      <th>hour_10</th>\n",
       "      <th>hour_11</th>\n",
       "      <th>hour_12</th>\n",
       "      <th>hour_13</th>\n",
       "      <th>hour_14</th>\n",
       "      <th>hour_15</th>\n",
       "      <th>hour_16</th>\n",
       "      <th>hour_17</th>\n",
       "      <th>hour_18</th>\n",
       "      <th>hour_19</th>\n",
       "      <th>hour_20</th>\n",
       "      <th>hour_21</th>\n",
       "      <th>hour_22</th>\n",
       "      <th>hour_23</th>\n",
       "      <th>Friday</th>\n",
       "      <th>Monday</th>\n",
       "      <th>Saturday</th>\n",
       "      <th>Sunday</th>\n",
       "      <th>Thursday</th>\n",
       "      <th>Tuesday</th>\n",
       "      <th>Wednesday</th>\n",
       "      <th>April</th>\n",
       "      <th>August</th>\n",
       "      <th>December</th>\n",
       "      <th>February</th>\n",
       "      <th>January</th>\n",
       "      <th>July</th>\n",
       "      <th>June</th>\n",
       "      <th>March</th>\n",
       "      <th>May</th>\n",
       "      <th>November</th>\n",
       "      <th>October</th>\n",
       "      <th>September</th>\n",
       "      <th>dangerous_crime</th>\n",
       "    </tr>\n",
       "  </thead>\n",
       "  <tbody>\n",
       "    <tr>\n",
       "      <th>0</th>\n",
       "      <td>VEHICLE - STOLEN</td>\n",
       "      <td>34.1329</td>\n",
       "      <td>-118.2084</td>\n",
       "      <td>1</td>\n",
       "      <td>0</td>\n",
       "      <td>0</td>\n",
       "      <td>0</td>\n",
       "      <td>0</td>\n",
       "      <td>0</td>\n",
       "      <td>0</td>\n",
       "      <td>0</td>\n",
       "      <td>0</td>\n",
       "      <td>0</td>\n",
       "      <td>0</td>\n",
       "      <td>0</td>\n",
       "      <td>0</td>\n",
       "      <td>0</td>\n",
       "      <td>0</td>\n",
       "      <td>0</td>\n",
       "      <td>0</td>\n",
       "      <td>0</td>\n",
       "      <td>0</td>\n",
       "      <td>0</td>\n",
       "      <td>0</td>\n",
       "      <td>0</td>\n",
       "      <td>0</td>\n",
       "      <td>0</td>\n",
       "      <td>0</td>\n",
       "      <td>1</td>\n",
       "      <td>0</td>\n",
       "      <td>0</td>\n",
       "      <td>0</td>\n",
       "      <td>0</td>\n",
       "      <td>0</td>\n",
       "      <td>0</td>\n",
       "      <td>0</td>\n",
       "      <td>0</td>\n",
       "      <td>0</td>\n",
       "      <td>1</td>\n",
       "      <td>0</td>\n",
       "      <td>0</td>\n",
       "      <td>0</td>\n",
       "      <td>0</td>\n",
       "      <td>0</td>\n",
       "      <td>0</td>\n",
       "      <td>0</td>\n",
       "      <td>1</td>\n",
       "    </tr>\n",
       "    <tr>\n",
       "      <th>1</th>\n",
       "      <td>THEFT OF IDENTITY</td>\n",
       "      <td>34.2596</td>\n",
       "      <td>-118.4640</td>\n",
       "      <td>1</td>\n",
       "      <td>0</td>\n",
       "      <td>0</td>\n",
       "      <td>0</td>\n",
       "      <td>0</td>\n",
       "      <td>0</td>\n",
       "      <td>0</td>\n",
       "      <td>0</td>\n",
       "      <td>0</td>\n",
       "      <td>0</td>\n",
       "      <td>0</td>\n",
       "      <td>0</td>\n",
       "      <td>0</td>\n",
       "      <td>0</td>\n",
       "      <td>0</td>\n",
       "      <td>0</td>\n",
       "      <td>0</td>\n",
       "      <td>0</td>\n",
       "      <td>0</td>\n",
       "      <td>0</td>\n",
       "      <td>0</td>\n",
       "      <td>0</td>\n",
       "      <td>0</td>\n",
       "      <td>0</td>\n",
       "      <td>0</td>\n",
       "      <td>1</td>\n",
       "      <td>0</td>\n",
       "      <td>0</td>\n",
       "      <td>0</td>\n",
       "      <td>0</td>\n",
       "      <td>0</td>\n",
       "      <td>0</td>\n",
       "      <td>0</td>\n",
       "      <td>0</td>\n",
       "      <td>0</td>\n",
       "      <td>1</td>\n",
       "      <td>0</td>\n",
       "      <td>0</td>\n",
       "      <td>0</td>\n",
       "      <td>0</td>\n",
       "      <td>0</td>\n",
       "      <td>0</td>\n",
       "      <td>0</td>\n",
       "      <td>0</td>\n",
       "    </tr>\n",
       "    <tr>\n",
       "      <th>2</th>\n",
       "      <td>VEHICLE - STOLEN</td>\n",
       "      <td>34.0181</td>\n",
       "      <td>-118.4213</td>\n",
       "      <td>1</td>\n",
       "      <td>0</td>\n",
       "      <td>0</td>\n",
       "      <td>0</td>\n",
       "      <td>0</td>\n",
       "      <td>0</td>\n",
       "      <td>0</td>\n",
       "      <td>0</td>\n",
       "      <td>0</td>\n",
       "      <td>0</td>\n",
       "      <td>0</td>\n",
       "      <td>0</td>\n",
       "      <td>0</td>\n",
       "      <td>0</td>\n",
       "      <td>0</td>\n",
       "      <td>0</td>\n",
       "      <td>0</td>\n",
       "      <td>0</td>\n",
       "      <td>0</td>\n",
       "      <td>0</td>\n",
       "      <td>0</td>\n",
       "      <td>0</td>\n",
       "      <td>0</td>\n",
       "      <td>0</td>\n",
       "      <td>0</td>\n",
       "      <td>1</td>\n",
       "      <td>0</td>\n",
       "      <td>0</td>\n",
       "      <td>0</td>\n",
       "      <td>0</td>\n",
       "      <td>0</td>\n",
       "      <td>0</td>\n",
       "      <td>0</td>\n",
       "      <td>0</td>\n",
       "      <td>0</td>\n",
       "      <td>1</td>\n",
       "      <td>0</td>\n",
       "      <td>0</td>\n",
       "      <td>0</td>\n",
       "      <td>0</td>\n",
       "      <td>0</td>\n",
       "      <td>0</td>\n",
       "      <td>0</td>\n",
       "      <td>1</td>\n",
       "    </tr>\n",
       "    <tr>\n",
       "      <th>3</th>\n",
       "      <td>BATTERY - SIMPLE ASSAULT</td>\n",
       "      <td>34.0790</td>\n",
       "      <td>-118.3004</td>\n",
       "      <td>1</td>\n",
       "      <td>0</td>\n",
       "      <td>0</td>\n",
       "      <td>0</td>\n",
       "      <td>0</td>\n",
       "      <td>0</td>\n",
       "      <td>0</td>\n",
       "      <td>0</td>\n",
       "      <td>0</td>\n",
       "      <td>0</td>\n",
       "      <td>0</td>\n",
       "      <td>0</td>\n",
       "      <td>0</td>\n",
       "      <td>0</td>\n",
       "      <td>0</td>\n",
       "      <td>0</td>\n",
       "      <td>0</td>\n",
       "      <td>0</td>\n",
       "      <td>0</td>\n",
       "      <td>0</td>\n",
       "      <td>0</td>\n",
       "      <td>0</td>\n",
       "      <td>0</td>\n",
       "      <td>0</td>\n",
       "      <td>0</td>\n",
       "      <td>1</td>\n",
       "      <td>0</td>\n",
       "      <td>0</td>\n",
       "      <td>0</td>\n",
       "      <td>0</td>\n",
       "      <td>0</td>\n",
       "      <td>0</td>\n",
       "      <td>0</td>\n",
       "      <td>0</td>\n",
       "      <td>0</td>\n",
       "      <td>1</td>\n",
       "      <td>0</td>\n",
       "      <td>0</td>\n",
       "      <td>0</td>\n",
       "      <td>0</td>\n",
       "      <td>0</td>\n",
       "      <td>0</td>\n",
       "      <td>0</td>\n",
       "      <td>1</td>\n",
       "    </tr>\n",
       "    <tr>\n",
       "      <th>4</th>\n",
       "      <td>BATTERY - SIMPLE ASSAULT</td>\n",
       "      <td>34.0790</td>\n",
       "      <td>-118.3004</td>\n",
       "      <td>1</td>\n",
       "      <td>0</td>\n",
       "      <td>0</td>\n",
       "      <td>0</td>\n",
       "      <td>0</td>\n",
       "      <td>0</td>\n",
       "      <td>0</td>\n",
       "      <td>0</td>\n",
       "      <td>0</td>\n",
       "      <td>0</td>\n",
       "      <td>0</td>\n",
       "      <td>0</td>\n",
       "      <td>0</td>\n",
       "      <td>0</td>\n",
       "      <td>0</td>\n",
       "      <td>0</td>\n",
       "      <td>0</td>\n",
       "      <td>0</td>\n",
       "      <td>0</td>\n",
       "      <td>0</td>\n",
       "      <td>0</td>\n",
       "      <td>0</td>\n",
       "      <td>0</td>\n",
       "      <td>0</td>\n",
       "      <td>0</td>\n",
       "      <td>1</td>\n",
       "      <td>0</td>\n",
       "      <td>0</td>\n",
       "      <td>0</td>\n",
       "      <td>0</td>\n",
       "      <td>0</td>\n",
       "      <td>0</td>\n",
       "      <td>0</td>\n",
       "      <td>0</td>\n",
       "      <td>0</td>\n",
       "      <td>1</td>\n",
       "      <td>0</td>\n",
       "      <td>0</td>\n",
       "      <td>0</td>\n",
       "      <td>0</td>\n",
       "      <td>0</td>\n",
       "      <td>0</td>\n",
       "      <td>0</td>\n",
       "      <td>1</td>\n",
       "    </tr>\n",
       "  </tbody>\n",
       "</table>\n",
       "</div>"
      ],
      "text/plain": [
       "     crime_code_description  latitude_crime  longitude_crime  hour_0  hour_1  \\\n",
       "0          VEHICLE - STOLEN         34.1329        -118.2084       1       0   \n",
       "1         THEFT OF IDENTITY         34.2596        -118.4640       1       0   \n",
       "2          VEHICLE - STOLEN         34.0181        -118.4213       1       0   \n",
       "3  BATTERY - SIMPLE ASSAULT         34.0790        -118.3004       1       0   \n",
       "4  BATTERY - SIMPLE ASSAULT         34.0790        -118.3004       1       0   \n",
       "\n",
       "   hour_2  hour_3  hour_4  hour_5  hour_6  hour_7  hour_8  hour_9  hour_10  \\\n",
       "0       0       0       0       0       0       0       0       0        0   \n",
       "1       0       0       0       0       0       0       0       0        0   \n",
       "2       0       0       0       0       0       0       0       0        0   \n",
       "3       0       0       0       0       0       0       0       0        0   \n",
       "4       0       0       0       0       0       0       0       0        0   \n",
       "\n",
       "   hour_11  hour_12  hour_13  hour_14  hour_15  hour_16  hour_17  hour_18  \\\n",
       "0        0        0        0        0        0        0        0        0   \n",
       "1        0        0        0        0        0        0        0        0   \n",
       "2        0        0        0        0        0        0        0        0   \n",
       "3        0        0        0        0        0        0        0        0   \n",
       "4        0        0        0        0        0        0        0        0   \n",
       "\n",
       "   hour_19  hour_20  hour_21  hour_22  hour_23  Friday  Monday  Saturday  \\\n",
       "0        0        0        0        0        0       0       1         0   \n",
       "1        0        0        0        0        0       0       1         0   \n",
       "2        0        0        0        0        0       0       1         0   \n",
       "3        0        0        0        0        0       0       1         0   \n",
       "4        0        0        0        0        0       0       1         0   \n",
       "\n",
       "   Sunday  Thursday  Tuesday  Wednesday  April  August  December  February  \\\n",
       "0       0         0        0          0      0       0         0         0   \n",
       "1       0         0        0          0      0       0         0         0   \n",
       "2       0         0        0          0      0       0         0         0   \n",
       "3       0         0        0          0      0       0         0         0   \n",
       "4       0         0        0          0      0       0         0         0   \n",
       "\n",
       "   January  July  June  March  May  November  October  September  \\\n",
       "0        1     0     0      0    0         0        0          0   \n",
       "1        1     0     0      0    0         0        0          0   \n",
       "2        1     0     0      0    0         0        0          0   \n",
       "3        1     0     0      0    0         0        0          0   \n",
       "4        1     0     0      0    0         0        0          0   \n",
       "\n",
       "   dangerous_crime  \n",
       "0                1  \n",
       "1                0  \n",
       "2                1  \n",
       "3                1  \n",
       "4                1  "
      ]
     },
     "execution_count": 27,
     "metadata": {},
     "output_type": "execute_result"
    }
   ],
   "source": [
    "# features = lapd_crime_data_2018_merged[['crime_code_description', 'latitude_crime', 'longitude_crime']]\n",
    "# features = features.join(pd.get_dummies(lapd_crime_data_2018_merged.hour, prefix='hour'))\n",
    "# features = features.join(pd.get_dummies(lapd_crime_data_2018_merged.day_))\n",
    "# features = features.join(pd.get_dummies(lapd_crime_data_2018_merged.month_))\n",
    "# features['dangerous_crime'] = 0\n",
    "\n",
    "# features.loc[features.crime_code_description.isin(dangerous_crimes), 'dangerous_crime'] = 1\n",
    "\n",
    "# features.to_csv('generated_data/features.csv', index=False)\n",
    "# features.head()"
   ]
  },
  {
   "cell_type": "markdown",
   "metadata": {},
   "source": [
    "## Random Forest Algorithm\n",
    "The RF algorithm was chosen to model and classify the dataset. This algorithm searches for the best feature among a random subset of features while splitting a node. Another important advantage of this algorithm is the ability to visualize the relative importance of different features."
   ]
  },
  {
   "cell_type": "markdown",
   "metadata": {},
   "source": [
    "The dataset was split into train and test datasets."
   ]
  },
  {
   "cell_type": "code",
   "execution_count": 28,
   "metadata": {},
   "outputs": [],
   "source": [
    "# X = features.drop(['dangerous_crime', 'crime_code_description'], axis=1)\n",
    "# # X = preprocessing.StandardScaler().fit(X).transform(X)\n",
    "# y = features.dangerous_crime.values\n",
    "\n",
    "# X_train, X_test, y_train, y_test = train_test_split( X, y, test_size=0.2, random_state=4)"
   ]
  },
  {
   "cell_type": "markdown",
   "metadata": {},
   "source": [
    "The hyperparameter *n_estimators* was tuned over a range of values. The accuracy looked to be topping out at *n = 100*. The other hyperparameters were left to be at their default values."
   ]
  },
  {
   "cell_type": "code",
   "execution_count": 29,
   "metadata": {},
   "outputs": [],
   "source": [
    "# N = [5, 10, 20, 40, 100, 200, 500]\n",
    "# scores = []\n",
    "# f1 = []\n",
    "# jaccard = []\n",
    "\n",
    "# for n in N:\n",
    "#     rf_model = RandomForestClassifier(n_estimators=n, max_features='auto').fit(X_train, y_train)\n",
    "#     yhat_rf = rf_model.predict(X_test)\n",
    "\n",
    "#     rf_score = rf_model.score(X_test, y_test)\n",
    "#     rf_f1 = metrics.f1_score(y_test, yhat_rf, average='weighted')\n",
    "#     rf_jaccard = metrics.jaccard_similarity_score(y_test, yhat_rf)\n",
    "\n",
    "#     scores.append(rf_score)\n",
    "#     f1.append(rf_f1)\n",
    "#     jaccard.append(rf_jaccard)"
   ]
  },
  {
   "cell_type": "code",
   "execution_count": 30,
   "metadata": {
    "scrolled": false
   },
   "outputs": [
    {
     "data": {
      "image/png": "[encoded data removed]",
      "text/plain": [
       "<Figure size 1080x720 with 2 Axes>"
      ]
     },
     "metadata": {
      "needs_background": "light"
     },
     "output_type": "display_data"
    }
   ],
   "source": [
    "# fig, ax = plt.subplots(2, 1, sharex=True)\n",
    "# fig.set_size_inches(15,10)\n",
    "\n",
    "# plt.subplot(2, 1, 1)\n",
    "# ax[0] = plt.plot(N, f1, label='F-1 score')\n",
    "# plt.xlabel('n_estimators')\n",
    "# plt.ylabel('F-1 score')\n",
    "# plt.legend()\n",
    "\n",
    "# plt.subplot(2, 1, 2)\n",
    "# ax[1] = plt.plot(N, jaccard, label='Jaccard Similarity')\n",
    "# plt.xlabel('n_estimators')\n",
    "# plt.ylabel('Jaccard Similarity')\n",
    "# plt.legend()\n",
    "\n",
    "# plt.show()"
   ]
  },
  {
   "cell_type": "markdown",
   "metadata": {},
   "source": [
    "The RF model was created with *n_estimators = 100*. The important features were visualized and as expected, it is the location (latitude & longitude) feature which dominates over any other feature. "
   ]
  },
  {
   "cell_type": "code",
   "execution_count": 31,
   "metadata": {},
   "outputs": [],
   "source": [
    "n_best = 100\n",
    "\n",
    "rf_model = RandomForestClassifier(n_estimators=n_best, max_features='auto').fit(X_train, y_train)\n",
    "yhat_rf = rf_model.predict(X_test)"
   ]
  },
  {
   "cell_type": "code",
   "execution_count": 32,
   "metadata": {},
   "outputs": [
    {
     "name": "stdout",
     "output_type": "stream",
     "text": [
      "F-1 score: 0.5364049047122339\n",
      "Jaccard Similarity: 0.5388536449638286\n"
     ]
    }
   ],
   "source": [
    "rf_score = rf_model.score(X_test, y_test)\n",
    "rf_f1 = metrics.f1_score(y_test, yhat_rf, average='weighted')\n",
    "rf_jaccard = metrics.jaccard_similarity_score(y_test, yhat_rf)\n",
    "rf_logloss = metrics.log_loss(y_test, yhat_rf)\n",
    "\n",
    "print('F-1 score: {}'.format(rf_f1))\n",
    "print('Jaccard Similarity: {}'.format(rf_jaccard))"
   ]
  },
  {
   "cell_type": "code",
   "execution_count": 33,
   "metadata": {
    "scrolled": false
   },
   "outputs": [
    {
     "data": {
      "image/png": "[encoded data removed]",
      "text/plain": [
       "<Figure size 720x1440 with 1 Axes>"
      ]
     },
     "metadata": {
      "needs_background": "light"
     },
     "output_type": "display_data"
    }
   ],
   "source": [
    "importances = rf_model.feature_importances_\n",
    "\n",
    "std = np.std([rf_model.feature_importances_ for tree in rf_model.estimators_], axis=0)\n",
    "indices = np.argsort(importances)[::-1]\n",
    "\n",
    "sorted_important_features = []\n",
    "for i in indices:\n",
    "    sorted_important_features.append(X_test.columns[i]) \n",
    "\n",
    "plt.figure(figsize=(10,20))\n",
    "plt.title('Feature Importances By Random Forest Model')\n",
    "plt.barh(range(len(indices)), importances[indices], color=['black','red'], yerr=std[indices], align='center')\n",
    "plt.yticks(range(len(indices)), sorted_important_features, rotation='horizontal');"
   ]
  },
  {
   "cell_type": "markdown",
   "metadata": {},
   "source": [
    "# Neighborhood and Venue Data\n",
    "\n",
    "## Neighborhoods administered by the LAPD\n",
    "\n",
    "The data for venues and businesses around a geographic location was obtained through the Foursquare API. The first step was to identify the neighborhoods for which crime data was available. This was necessary because the LAPD does not ohave jurisdiction over several areas in LA County and these are administered through their own police departments for which crime data was not available. \n",
    "\n",
    "The data for the neighborhoods served by the LAPD was scraped from the [LA Times website](http://maps.latimes.com/lapd/). The JSON object for each divison was inspected and the neighborhood information was extracted. Additionally, the latitude and longitude for each neighborhood was retrieved using the geocoder class. This dataframe was stored locally on the machine."
   ]
  },
  {
   "cell_type": "code",
   "execution_count": 34,
   "metadata": {},
   "outputs": [],
   "source": [
    "lapd_city_url_head = 'http://maps.latimes.com/lapd/division/'\n",
    "lapd_precinct_data['city_url'] = lapd_city_url_head + lapd_precinct_data['division'].str.replace(' ', '-').str.lower()\n",
    "\n",
    "la_city_data = {}\n",
    "\n",
    "for _, row in lapd_precinct_data.iterrows():\n",
    "    cities = []\n",
    "    content = requests.get(row.city_url).text\n",
    "    soup = BeautifulSoup(content, 'lxml')\n",
    "    for a in soup.find_all('a', href=re.compile(r'/neighborhoods/neighborhood/(.*)/crime')):\n",
    "        if a.text:\n",
    "            cities.append(a.text.replace('Unincorporated', '').strip(' \\t \\n \\r'))\n",
    "            ,\n",
    "    la_city_data[row.division] = cities   \n",
    "\n",
    "la_city_data = pd.DataFrame(dict([(k.title(), pd.Series(v)) for k,v in la_city_data.items()])).melt(var_name='division', value_name='location').dropna()\n",
    "la_city_data[['latitude', 'longitude']] = la_city_data.apply(get_lat_lng_coords, axis=1)\n",
    "la_city_data.rename(columns={'location': 'neighborhood'}, inplace=True)\n",
    "\n",
    "lapd_precinct_data.drop('city_url', axis=1, inplace=True)\n",
    "la_city_data.to_csv('generated_data/la_city_data.csv', index=False)"
   ]
  },
  {
   "cell_type": "markdown",
   "metadata": {},
   "source": [
    "We also found there were some instances where parts of a neighborhood were administered by different divisions of the LAPD. In these instances, a simple assumption was made to assign the neighborhood to the first division it appeared under in the dataset. This can be handled more cleverly by partitioning the neighborhood but was deemed unnecessary for this analysis."
   ]
  },
  {
   "cell_type": "code",
   "execution_count": 35,
   "metadata": {
    "scrolled": true
   },
   "outputs": [],
   "source": [
    "la_city_data = pd.read_csv('generated_data/la_city_data.csv')\n",
    "la_city_data = la_city_data.drop('division', axis=1).sort_values(by='neighborhood', ascending=True).drop_duplicates(subset='neighborhood', keep='first').reset_index(drop=True)"
   ]
  },
  {
   "cell_type": "markdown",
   "metadata": {},
   "source": [
    "## Foursquare Venue Data\n",
    "\n",
    "The next step was to use the Foursquare API to retrieve data for businesses and services around a particular neighborhood. We searched for the following categories of businesses and services in a 1 mile radius, limiting our results to 50 venues under each category:\n",
    "* Arts & Entertainment - Music venues, Theatres, Concert Halls, Bowling Alleys\n",
    "* Fitness Center - Gyms, Yoga Studios, Pilates\n",
    "* Food - Restaurants, Fast-Food Joints, Cafes\n",
    "* Medical Center - Hospitals, Urgent Care Clinics, Pharmacies\n",
    "* Nightlife Spot - Bars, Lounges, Nightclubs\n",
    "* Shop & Service - Grocery Stores, Utilities Providers, Services\n",
    "\n",
    "Additionally, in order to beautify our map, we assigned a representative icon and color for each business belonging to one of the above categories.\n",
    "\n",
    "The JSON object was inspected and the following details were extracted:\n",
    "* Venue Name\n",
    "* Venue ID\n",
    "* Venue Category\n",
    "* Venue Address\n",
    "* Venue Latitude & Longitude\n",
    "\n",
    "Using the Venue ID, a subsequent call was designed to extract the venue rating. However, this is a Premium endpoint and was limited to only 500 requests per day which was not sufficient to handle our dataset of approximately 24000 venues. While the code is shown below, we subsequently discard the *venue_rating* column from our dataset. The dataframe was stored locally on the machine for faster retrieval."
   ]
  },
  {
   "cell_type": "code",
   "execution_count": 36,
   "metadata": {},
   "outputs": [],
   "source": [
    "# @hidden_cell\n",
    "\n",
    "CLIENT_ID = '2ITIJOBIMJWSM5YZKMW5CIEC3GZVBTEPXEMKZWN30Q1ASSV3'\n",
    "CLIENT_SECRET = 'C2ZVPDC1AZZWYXAM54JQEVQEYCAKZ1GZ54YYRPJMA1Q10IU2'\n",
    "VERSION = '20180605'\n",
    "\n",
    "LIMIT = 50\n",
    "radius = 1600\n",
    "\n",
    "categories = {\n",
    "    'Arts & Entertainment': ('4d4b7104d754a06370d81259', 'film', 'blue'),\n",
    "    'Fitness Center': ('4bf58dd8d48988d175941735', 'tower', 'gray'),\n",
    "    'Food': ('4d4b7105d754a06374d81259', 'cutlery', 'purple'),\n",
    "    'Medical Center': ('4bf58dd8d48988d104941735', 'heart', 'red'),\n",
    "    'Nightlife Spot': ('4d4b7105d754a06376d81259', 'glass', 'darkpuple'),\n",
    "    'Shop & Service': ('4d4b7105d754a06378d81259', 'shopping-cart', 'cadetblue'),\n",
    "    }"
   ]
  },
  {
   "cell_type": "code",
   "execution_count": 37,
   "metadata": {},
   "outputs": [],
   "source": [
    "def getNearbyVenues(names, latitudes, longitudes):\n",
    "    \n",
    "    columns = ['neighborhood', 'neighborhood_latitude', 'neighborhood_longitude', 'venue_name', 'venue_id', 'venue_rating', 'venue_category', 'venue_category_id', 'venue_address', 'venue_city', 'venue_latitude', 'venue_longitude', 'icon', 'color']\n",
    "\n",
    "    def getVenueRating(venueId):\n",
    "        url = 'https://api.foursquare.com/v2/venues/{}?&client_id={}&client_secret={}&v={}'.format(venueId, CLIENT_ID, CLIENT_SECRET, VERSION)\n",
    "        try:    \n",
    "            return requests.get(url).json()['response']['venue']['rating']\n",
    "        except:\n",
    "            return float('NaN')\n",
    "    \n",
    "    venues_list = []\n",
    "    venues_df = []\n",
    "    \n",
    "    for neighborhood, lat, lng in zip(names, latitudes, longitudes):\n",
    "        for category, category_params in categories.items():\n",
    "            url = 'https://api.foursquare.com/v2/venues/search?&client_id={}&client_secret={}&v={}&ll={},{}&categoryId={}&radius={}&limit={}'.format(CLIENT_ID, CLIENT_SECRET, VERSION, lat, lng, category_params[0], radius, LIMIT)\n",
    "            try:\n",
    "                results = requests.get(url).json()['response']['venues']\n",
    "#                 print('Added: {}, {}'.format(neighborhood, category))\n",
    "                venue_list = [(neighborhood, lat, lng, v['name'], v['id'], getVenueRating(v['id']), v['categories'][0]['name'], category_params[0], v['location']['formattedAddress'][0], v['location']['formattedAddress'][1], v['location']['lat'], v['location']['lng'], category_params[1], category_params[2]) for v in results]\n",
    "                venues_df.append(pd.DataFrame([item for item in venue_list], columns=columns))\n",
    "            except:\n",
    "#                 print('Skipped: {}, {}'.format(neighborhood, category))\n",
    "                venues_df.append(pd.DataFrame(columns=columns))\n",
    "\n",
    "    venues_df = pd.concat(venues_df, ignore_index=True)\n",
    "    mask = ~venues_df['venue_id'].duplicated(keep='first')\n",
    "    return venues_df[mask]"
   ]
  },
  {
   "cell_type": "code",
   "execution_count": 38,
   "metadata": {
    "scrolled": true
   },
   "outputs": [],
   "source": [
    "# la_city_venues = getNearbyVenues(names=la_city_data.neighborhood, latitudes=la_city_data.latitude, \n",
    "#                                  longitudes=la_city_data.longitude)\n",
    "# la_city_venues.to_csv('generated_data/la_city_venues.csv', index=False)"
   ]
  },
  {
   "cell_type": "code",
   "execution_count": 39,
   "metadata": {},
   "outputs": [],
   "source": [
    "la_city_venues = pd.read_csv('generated_data/la_city_venues.csv')\n",
    "la_city_venues = la_city_venues.drop('venue_rating', axis=1)"
   ]
  },
  {
   "cell_type": "code",
   "execution_count": 41,
   "metadata": {},
   "outputs": [
    {
     "data": {
      "text/plain": [
       "(23932, 13)"
      ]
     },
     "execution_count": 41,
     "metadata": {},
     "output_type": "execute_result"
    }
   ],
   "source": [
    "la_city_venues.shape"
   ]
  },
  {
   "cell_type": "markdown",
   "metadata": {},
   "source": [
    "## More Visualiztions!\n",
    "\n",
    "Finally, we can superimpose our neighborhood data with the heat maps from our crime data to get an informative understanding of the safety of a neighborhood as well as its offerings. The maps were generated for 156 (yeah, LA is huge!) neighborhoods in LA. A few of them are shown here.\n",
    "\n",
    "Please note the folium maps rendered by Jupyter do not show up on Github. This is a known issue, therefore, screenshots of the maps themselves have been included in the entire notebook."
   ]
  },
  {
   "cell_type": "code",
   "execution_count": 40,
   "metadata": {},
   "outputs": [],
   "source": [
    "# map_data = [[row.latitude_crime, row.longitude_crime] for _, row in lapd_crime_data_2018_merged.iterrows()]\n",
    "\n",
    "#  for _, city_row in la_city_data.iterrows():\n",
    "#     df = la_city_venues.loc[la_city_venues.neighborhood==city_row.neighborhood]\n",
    "    \n",
    "#     if df.empty is not True:\n",
    "        \n",
    "#         la_heat_map = folium.Map(location = [city_row.latitude, city_row.longitude], zoom_start = 14)\n",
    "        \n",
    "#         plugins.HeatMap(map_data,\n",
    "#                 min_opacity = 0.5,\n",
    "#                 max_zoom = 18, \n",
    "#                 max_val = 1.0, \n",
    "#                 radius = 20,\n",
    "#                 blur = 30,\n",
    "#                 gradient = None,\n",
    "#                 overlay = True).add_to(la_heat_map);\n",
    "        \n",
    "#         folium.Marker(\n",
    "#                 location=[city_row.latitude, city_row.longitude],\n",
    "#                 popup='Neighborhood: {}'.format(city_row.neighborhood),\n",
    "#                 icon=folium.Icon(color='black')\n",
    "#             ).add_to(la_heat_map)\n",
    "        \n",
    "\n",
    "#         for _, row in df.iterrows():\n",
    "#             folium.Marker(\n",
    "#                 location=[row.venue_latitude, row.venue_longitude],\n",
    "#                 popup='Venue: {} <br> Category: {}'.format(row.venue_name, row.venue_category),\n",
    "#                 icon=folium.Icon(icon=row.icon, color=row.color)\n",
    "#             ).add_to(la_heat_map)\n",
    "\n",
    "#         la_heat_map.save('neighborhood_maps/{}_heat_map_venues.html'.format(city_row.neighborhood.lower().replace('/', '-').replace(' ', '_')))"
   ]
  },
  {
   "cell_type": "markdown",
   "metadata": {},
   "source": [
    "### Downtown LA Venue + Crime Heat Map\n",
    "\n",
    "![](images/14_downtown_heat_map_venues.png)"
   ]
  },
  {
   "cell_type": "markdown",
   "metadata": {},
   "source": [
    "### Elysian Park Venue + Crime Heat Map\n",
    "\n",
    "![](images/15_elysian_park_heat_map_venues.png)"
   ]
  },
  {
   "cell_type": "markdown",
   "metadata": {},
   "source": [
    "### Hollywood Venue + Crime Heat Map\n",
    "\n",
    "![](images/17_hollywood_heat_map_venues.png)"
   ]
  },
  {
   "cell_type": "markdown",
   "metadata": {},
   "source": [
    "### Koreatown Venue + Crime Heat Map\n",
    "\n",
    "![](images/16_koreatown_heat_map_venues.png)"
   ]
  },
  {
   "cell_type": "markdown",
   "metadata": {},
   "source": [
    "### Van Nuys Venue + Crime Heat Map\n",
    "\n",
    "![](images/18_van_nuys_heat_map_venues.png)"
   ]
  }
 ],
 "metadata": {
  "kernelspec": {
   "display_name": "Python 3",
   "language": "python",
   "name": "python3"
  },
  "language_info": {
   "codemirror_mode": {
    "name": "ipython",
    "version": 3
   },
   "file_extension": ".py",
   "mimetype": "text/x-python",
   "name": "python",
   "nbconvert_exporter": "python",
   "pygments_lexer": "ipython3",
   "version": "3.6.6"
  }
 },
 "nbformat": 4,
 "nbformat_minor": 2
}
